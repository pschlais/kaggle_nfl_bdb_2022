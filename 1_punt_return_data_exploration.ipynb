{
 "cells": [
  {
   "cell_type": "code",
   "execution_count": 1,
   "metadata": {},
   "outputs": [],
   "source": [
    "# add local directory to import path\n",
    "import os\n",
    "import sys\n",
    "module_path = os.path.abspath(os.path.join('.'))\n",
    "if module_path not in sys.path:\n",
    "    sys.path.append(module_path)"
   ]
  },
  {
   "cell_type": "code",
   "execution_count": 2,
   "metadata": {},
   "outputs": [],
   "source": [
    "#### --- Standard imports ------\n",
    "import pandas as pd\n",
    "import numpy as np\n",
    "import matplotlib.pyplot as plt\n",
    "import seaborn as sns\n",
    "from operator import attrgetter\n",
    "\n",
    "from IPython.display import HTML\n",
    "\n",
    "# local import\n",
    "import nflplot\n",
    "import nflutil"
   ]
  },
  {
   "cell_type": "code",
   "execution_count": 3,
   "metadata": {},
   "outputs": [
    {
     "data": {
      "text/plain": [
       "<module 'nflutil' from 'C:\\\\Users\\\\pschl\\\\Documents\\\\data_science\\\\kaggle_nfl_bdb_2022\\\\nflutil.py'>"
      ]
     },
     "execution_count": 3,
     "metadata": {},
     "output_type": "execute_result"
    }
   ],
   "source": [
    "from importlib import reload\n",
    "reload(nflplot)\n",
    "reload(nflutil)"
   ]
  },
  {
   "cell_type": "markdown",
   "metadata": {},
   "source": [
    "**IMPORT DATA - This notebook assumes that the source data is in a \"csv\" subfolder relative to this notebook**"
   ]
  },
  {
   "cell_type": "code",
   "execution_count": 4,
   "metadata": {},
   "outputs": [],
   "source": [
    "year = 2018\n",
    "track_df = nflutil.transform_tracking_data(pd.read_csv(f'csv/tracking{year}.csv'))"
   ]
  },
  {
   "cell_type": "code",
   "execution_count": 5,
   "metadata": {},
   "outputs": [],
   "source": [
    "play_df = pd.read_csv('csv/plays.csv')\n",
    "game_df = pd.read_csv('csv/games.csv')\n",
    "player_df = pd.read_csv('csv/players.csv')\n",
    "pff_df = pd.read_csv('csv/PFFScoutingData.csv')"
   ]
  },
  {
   "cell_type": "markdown",
   "metadata": {},
   "source": [
    "## Event Types"
   ]
  },
  {
   "cell_type": "code",
   "execution_count": 6,
   "metadata": {},
   "outputs": [
    {
     "data": {
      "text/plain": [
       "Kickoff        7843\n",
       "Punt           5991\n",
       "Extra Point    3488\n",
       "Field Goal     2657\n",
       "Name: specialTeamsPlayType, dtype: int64"
      ]
     },
     "execution_count": 6,
     "metadata": {},
     "output_type": "execute_result"
    }
   ],
   "source": [
    "# play-level\n",
    "play_df['specialTeamsPlayType'].value_counts()"
   ]
  },
  {
   "cell_type": "code",
   "execution_count": 7,
   "metadata": {},
   "outputs": [
    {
     "data": {
      "text/plain": [
       "Return                      2286\n",
       "Fair Catch                  1640\n",
       "Downed                       829\n",
       "Out of Bounds                586\n",
       "Touchback                    383\n",
       "Muffed                       154\n",
       "Non-Special Teams Result      74\n",
       "Blocked Punt                  39\n",
       "Name: specialTeamsResult, dtype: int64"
      ]
     },
     "execution_count": 7,
     "metadata": {},
     "output_type": "execute_result"
    }
   ],
   "source": [
    "play_df.loc[play_df['specialTeamsPlayType']=='Punt', 'specialTeamsResult'].value_counts()"
   ]
  },
  {
   "cell_type": "code",
   "execution_count": 8,
   "metadata": {},
   "outputs": [
    {
     "data": {
      "text/plain": [
       "None                        225312\n",
       "ball_snap                     2136\n",
       "punt                          2127\n",
       "punt_received                  855\n",
       "tackle                         707\n",
       "first_contact                  621\n",
       "fair_catch                     586\n",
       "punt_land                      582\n",
       "out_of_bounds                  378\n",
       "punt_downed                    331\n",
       "line_set                       153\n",
       "touchback                      144\n",
       "fumble_offense_recovered        53\n",
       "punt_muffed                     52\n",
       "fumble                          36\n",
       "fumble_defense_recovered        31\n",
       "punt_fake                       23\n",
       "punt_blocked                    20\n",
       "touchdown                       15\n",
       "punt_play                       13\n",
       "man_in_motion                   12\n",
       "run                             12\n",
       "penalty_flag                    11\n",
       "pass_forward                    10\n",
       "kick_received                    9\n",
       "pass_arrived                     9\n",
       "pass_outcome_caught              7\n",
       "snap_direct                      4\n",
       "pass_outcome_incomplete          3\n",
       "kick_recovered                   3\n",
       "safety                           2\n",
       "lateral                          1\n",
       "handoff                          1\n",
       "kickoff_land                     1\n",
       "huddle_start_offense             1\n",
       "play_action                      1\n",
       "huddle_break_offense             1\n",
       "Name: event, dtype: int64"
      ]
     },
     "execution_count": 8,
     "metadata": {},
     "output_type": "execute_result"
    }
   ],
   "source": [
    "# get event counts for punt plays\n",
    "pd.merge(\n",
    "    track_df.groupby(['gameId','playId','frameId']).head(1),\n",
    "    play_df[play_df['specialTeamsPlayType']=='Punt'],\n",
    "    how='inner',\n",
    "    on=['gameId','playId']\n",
    ")['event'].value_counts()"
   ]
  },
  {
   "cell_type": "markdown",
   "metadata": {},
   "source": [
    "## Punt Formations - distribution of gunner count, vise count, and gunner-deficit (# gunners - # vises)"
   ]
  },
  {
   "cell_type": "markdown",
   "metadata": {},
   "source": [
    "### Gunner Count"
   ]
  },
  {
   "cell_type": "code",
   "execution_count": 9,
   "metadata": {},
   "outputs": [
    {
     "data": {
      "text/plain": [
       "5880"
      ]
     },
     "execution_count": 9,
     "metadata": {},
     "output_type": "execute_result"
    }
   ],
   "source": [
    "# total number of punt plays with data\n",
    "pff_df[pff_df['kickType'].isin(['N','R','A'])].shape[0]"
   ]
  },
  {
   "cell_type": "code",
   "execution_count": 10,
   "metadata": {},
   "outputs": [
    {
     "data": {
      "text/plain": [
       "18"
      ]
     },
     "execution_count": 10,
     "metadata": {},
     "output_type": "execute_result"
    }
   ],
   "source": [
    "# number of zero-gunner plays (max-protect)\n",
    "pff_df[pff_df['gunners'].isna() \n",
    "       & (pff_df['kickType'].isin(['N','R','A']))].shape[0]"
   ]
  },
  {
   "cell_type": "code",
   "execution_count": 11,
   "metadata": {},
   "outputs": [
    {
     "data": {
      "text/plain": [
       "1      13\n",
       "2    5809\n",
       "3      33\n",
       "4       7\n",
       "Name: gunners, dtype: int64"
      ]
     },
     "execution_count": 11,
     "metadata": {},
     "output_type": "execute_result"
    }
   ],
   "source": [
    "# number of gunners in plays where there are gunners\n",
    "(pff_df.loc[pff_df['gunners'].notna() \n",
    "       & (pff_df['kickType'].isin(['N','R','A'])),\n",
    "          'gunners']\n",
    "  .transform(lambda x: x.count(';') + 1)\n",
    ").value_counts().sort_index()"
   ]
  },
  {
   "cell_type": "markdown",
   "metadata": {},
   "source": [
    "The results above clearly show that 2 gunners is the vast majority of all scenarios, so any consideration of gunner count as a predictive feature should be investigated thoroughly."
   ]
  },
  {
   "cell_type": "markdown",
   "metadata": {},
   "source": [
    "### Vise Count"
   ]
  },
  {
   "cell_type": "code",
   "execution_count": 12,
   "metadata": {},
   "outputs": [
    {
     "data": {
      "text/plain": [
       "40"
      ]
     },
     "execution_count": 12,
     "metadata": {},
     "output_type": "execute_result"
    }
   ],
   "source": [
    "# number of zero-vise plays (block attempt)\n",
    "pff_df[pff_df['vises'].isna() \n",
    "       & (pff_df['kickType'].isin(['N','R','A']))].shape[0]"
   ]
  },
  {
   "cell_type": "code",
   "execution_count": 13,
   "metadata": {},
   "outputs": [
    {
     "data": {
      "text/plain": [
       "1      61\n",
       "2    3495\n",
       "3    1746\n",
       "4     531\n",
       "5       7\n",
       "Name: vises, dtype: int64"
      ]
     },
     "execution_count": 13,
     "metadata": {},
     "output_type": "execute_result"
    }
   ],
   "source": [
    "# number of vises in plays where there are vises\n",
    "(pff_df.loc[pff_df['vises'].notna() \n",
    "       & (pff_df['kickType'].isin(['N','R','A'])),\n",
    "          'vises']\n",
    "  .transform(lambda x: x.count(';') + 1)\n",
    ").value_counts().sort_index()"
   ]
  },
  {
   "cell_type": "markdown",
   "metadata": {},
   "source": [
    "### Gunner deficit\n",
    "Negative means less gunners than vises"
   ]
  },
  {
   "cell_type": "code",
   "execution_count": 14,
   "metadata": {},
   "outputs": [],
   "source": [
    "def count_gunner_deficit(df):\n",
    "    # counts gunner deficit (# gunners - # vises)\n",
    "    # - if the type is not string, it is nan (float)\n",
    "    gunners = 0 if type(df['gunners']) is not str else df['gunners'].count(';') + 1\n",
    "    vises = 0 if type(df['vises']) is not str else df['vises'].count(';') + 1\n",
    "    return gunners - vises"
   ]
  },
  {
   "cell_type": "code",
   "execution_count": 15,
   "metadata": {},
   "outputs": [
    {
     "data": {
      "text/plain": [
       "-3       4\n",
       "-2     525\n",
       "-1    1740\n",
       " 0    3520\n",
       " 1      70\n",
       " 2      21\n",
       "dtype: int64"
      ]
     },
     "execution_count": 15,
     "metadata": {},
     "output_type": "execute_result"
    }
   ],
   "source": [
    "(pff_df[(pff_df['kickType'].isin(['N','R','A']))]\n",
    "  .apply(lambda row: count_gunner_deficit(row), axis=1)\n",
    ").value_counts().sort_index()"
   ]
  },
  {
   "cell_type": "markdown",
   "metadata": {},
   "source": [
    "## Relative position at catch\n",
    "Get order of closest to furthest from returner at time of catch, then see which player makes the tackle\n",
    "* Distribution of order vs tackler\n",
    "* Distribution of space to closest defender (X yds) vs. player that makes tackle (1st, 2nd, ...)"
   ]
  },
  {
   "cell_type": "code",
   "execution_count": 16,
   "metadata": {},
   "outputs": [
    {
     "data": {
      "text/plain": [
       "2286"
      ]
     },
     "execution_count": 16,
     "metadata": {},
     "output_type": "execute_result"
    }
   ],
   "source": [
    "# get the punt plays with a return\n",
    "puntreturn_play_df = play_df.loc[(play_df['specialTeamsPlayType']=='Punt') & (play_df['specialTeamsResult']=='Return'), :]\n",
    "len(puntreturn_play_df)"
   ]
  },
  {
   "cell_type": "code",
   "execution_count": 17,
   "metadata": {},
   "outputs": [
    {
     "data": {
      "text/plain": [
       "gameId                                                           2018090600\n",
       "playId                                                                  366\n",
       "playDescription           (9:20) C.Johnston punts 56 yards to ATL 36, Ce...\n",
       "quarter                                                                   1\n",
       "down                                                                      4\n",
       "yardsToGo                                                                 4\n",
       "possessionTeam                                                          PHI\n",
       "specialTeamsPlayType                                                   Punt\n",
       "specialTeamsResult                                                   Return\n",
       "kickerId                                                              45603\n",
       "returnerId                                                            42450\n",
       "kickBlockerId                                                           NaN\n",
       "yardlineSide                                                            PHI\n",
       "yardlineNumber                                                            8\n",
       "gameClock                                                          09:20:00\n",
       "penaltyCodes                                                           UNSd\n",
       "penaltyJerseyNumbers                                                 PHI 18\n",
       "penaltyYards                                                            -15\n",
       "preSnapHomeScore                                                          0\n",
       "preSnapVisitorScore                                                       0\n",
       "passResult                                                              NaN\n",
       "kickLength                                                               56\n",
       "kickReturnYardage                                                         5\n",
       "playResult                                                               36\n",
       "absoluteYardlineNumber                                                   18\n",
       "Name: 1, dtype: object"
      ]
     },
     "execution_count": 17,
     "metadata": {},
     "output_type": "execute_result"
    }
   ],
   "source": [
    "puntreturn_play_df.iloc[0]"
   ]
  },
  {
   "cell_type": "code",
   "execution_count": 18,
   "metadata": {},
   "outputs": [
    {
     "data": {
      "text/html": [
       "<div>\n",
       "<style scoped>\n",
       "    .dataframe tbody tr th:only-of-type {\n",
       "        vertical-align: middle;\n",
       "    }\n",
       "\n",
       "    .dataframe tbody tr th {\n",
       "        vertical-align: top;\n",
       "    }\n",
       "\n",
       "    .dataframe thead th {\n",
       "        text-align: right;\n",
       "    }\n",
       "</style>\n",
       "<table border=\"1\" class=\"dataframe\">\n",
       "  <thead>\n",
       "    <tr style=\"text-align: right;\">\n",
       "      <th></th>\n",
       "      <th>frameId</th>\n",
       "      <th>event</th>\n",
       "    </tr>\n",
       "  </thead>\n",
       "  <tbody>\n",
       "    <tr>\n",
       "      <th>12070916</th>\n",
       "      <td>11</td>\n",
       "      <td>ball_snap</td>\n",
       "    </tr>\n",
       "    <tr>\n",
       "      <th>12070938</th>\n",
       "      <td>33</td>\n",
       "      <td>punt</td>\n",
       "    </tr>\n",
       "    <tr>\n",
       "      <th>12070983</th>\n",
       "      <td>78</td>\n",
       "      <td>punt_received</td>\n",
       "    </tr>\n",
       "    <tr>\n",
       "      <th>12071005</th>\n",
       "      <td>100</td>\n",
       "      <td>first_contact</td>\n",
       "    </tr>\n",
       "    <tr>\n",
       "      <th>12071024</th>\n",
       "      <td>119</td>\n",
       "      <td>tackle</td>\n",
       "    </tr>\n",
       "  </tbody>\n",
       "</table>\n",
       "</div>"
      ],
      "text/plain": [
       "          frameId          event\n",
       "12070916       11      ball_snap\n",
       "12070938       33           punt\n",
       "12070983       78  punt_received\n",
       "12071005      100  first_contact\n",
       "12071024      119         tackle"
      ]
     },
     "execution_count": 18,
     "metadata": {},
     "output_type": "execute_result"
    }
   ],
   "source": [
    "gameId = 2018090600\n",
    "playId = 366\n",
    "(track_df[(track_df['gameId']==gameId)&(track_df['playId']==playId)&(track_df['event']!='None')]\n",
    " .groupby('frameId')\n",
    " .head(1)\n",
    " )[['frameId', 'event']]"
   ]
  },
  {
   "cell_type": "code",
   "execution_count": 19,
   "metadata": {},
   "outputs": [],
   "source": [
    "def get_frame_of_event(track_df, event_name):\n",
    "    # returns a dataframe of gameId, playId, frameId, and event name for the input event name.\n",
    "    # track_df = tracking data, any number of plays\n",
    "    return (track_df.loc[track_df.event==event_name,\n",
    "                         ['gameId','playId','frameId','event']]\n",
    "            .groupby(['gameId','playId', 'frameId'])\n",
    "            .head(1)\n",
    "           )"
   ]
  },
  {
   "cell_type": "code",
   "execution_count": 20,
   "metadata": {},
   "outputs": [
    {
     "data": {
      "text/html": [
       "<div>\n",
       "<style scoped>\n",
       "    .dataframe tbody tr th:only-of-type {\n",
       "        vertical-align: middle;\n",
       "    }\n",
       "\n",
       "    .dataframe tbody tr th {\n",
       "        vertical-align: top;\n",
       "    }\n",
       "\n",
       "    .dataframe thead th {\n",
       "        text-align: right;\n",
       "    }\n",
       "</style>\n",
       "<table border=\"1\" class=\"dataframe\">\n",
       "  <thead>\n",
       "    <tr style=\"text-align: right;\">\n",
       "      <th></th>\n",
       "      <th>gameId</th>\n",
       "      <th>playId</th>\n",
       "      <th>frameId</th>\n",
       "      <th>event</th>\n",
       "    </tr>\n",
       "  </thead>\n",
       "  <tbody>\n",
       "    <tr>\n",
       "      <th>12070983</th>\n",
       "      <td>2018090600</td>\n",
       "      <td>366</td>\n",
       "      <td>78</td>\n",
       "      <td>punt_received</td>\n",
       "    </tr>\n",
       "  </tbody>\n",
       "</table>\n",
       "</div>"
      ],
      "text/plain": [
       "              gameId  playId  frameId          event\n",
       "12070983  2018090600     366       78  punt_received"
      ]
     },
     "execution_count": 20,
     "metadata": {},
     "output_type": "execute_result"
    }
   ],
   "source": [
    "test_df = track_df[(track_df.gameId==gameId)&(track_df.playId==playId)]\n",
    "get_frame_of_event(test_df, 'punt_received')"
   ]
  },
  {
   "cell_type": "code",
   "execution_count": 21,
   "metadata": {},
   "outputs": [],
   "source": [
    "# limit to punt plays\n",
    "play_punt_mask = ((play_df['specialTeamsPlayType']=='Punt') & \n",
    "                  (play_df['specialTeamsResult']=='Return') &\n",
    "                  ~play_df['returnerId'].astype(str).str.contains(';')\n",
    "                 )\n",
    "\n",
    "rpac_df = (play_df.loc[play_punt_mask, ['gameId','playId','returnerId']]\n",
    " .astype({\"returnerId\": float})\n",
    " # attach the returner ID and frame ID of the \"punt_received\" event to each play\n",
    " .merge(get_frame_of_event(track_df, 'punt_received'),\n",
    "        how='inner',\n",
    "        on=['gameId','playId'])\n",
    " # get the returner position on the field when the punt is caught\n",
    " .merge(track_df[['gameId','playId','frameId','nflId','team','x','y']],\n",
    "        how='inner',\n",
    "        left_on=['gameId','playId','frameId','returnerId'],\n",
    "        right_on=['gameId','playId','frameId','nflId'])\n",
    " .drop(columns=['nflId'])\n",
    " .rename(columns={'x':'x_returner', 'y':'y_returner', 'team':'teamReturner'})\n",
    " # attach home and away team labels for each game\n",
    " .merge(game_df[['gameId','homeTeamAbbr','visitorTeamAbbr']],\n",
    "        how='inner',\n",
    "        on='gameId')\n",
    " # attach the returner location to each opposing team player's position\n",
    " .merge(track_df[['gameId','playId','frameId','nflId','team','jerseyNumber','x','y']],\n",
    "        how='inner',\n",
    "        on=['gameId','playId','frameId'])\n",
    " .query('teamReturner != team and team != \"football\"')\n",
    " .astype({'jerseyNumber': int})\n",
    " # assemble identifier for punting team players\n",
    " .assign(puntTeamAbbr=lambda df_: np.where(df_['team']=='home', df_['homeTeamAbbr'], df_['visitorTeamAbbr']),\n",
    "         jerseyID=lambda df_: df_['puntTeamAbbr'] + ' ' + df_['jerseyNumber'].astype(str).str.rjust(2, '0'))\n",
    " .drop(columns=['teamReturner', 'team', 'homeTeamAbbr', 'visitorTeamAbbr'])\n",
    " # calculate distance to returner\n",
    " .assign(dist=lambda df_: np.sqrt((df_['x']-df_['x_returner'])**2 + (df_['y']-df_['y_returner'])**2))\n",
    " # attach distance order within given play\n",
    " .sort_values(['gameId','playId','dist'])\n",
    " .assign(dist_order=lambda df_: df_.groupby(['gameId','playId']).cumcount()+1)\n",
    " # merge with PFF tackler data\n",
    " .merge(pff_df[['gameId','playId','tackler','kickContactType']].dropna(subset=['tackler']),\n",
    "        how='inner',\n",
    "        left_on=['gameId','playId','jerseyID'],\n",
    "        right_on=['gameId','playId','tackler'])\n",
    " .merge(player_df[['nflId','displayName']],\n",
    "        how='left',\n",
    "        on='nflId')\n",
    " .query('kickContactType == \"CC\"')  # air clean catch\n",
    ")"
   ]
  },
  {
   "cell_type": "code",
   "execution_count": 22,
   "metadata": {},
   "outputs": [
    {
     "data": {
      "image/png": "[encoded data removed]",
      "text/plain": [
       "<Figure size 432x288 with 1 Axes>"
      ]
     },
     "metadata": {
      "needs_background": "light"
     },
     "output_type": "display_data"
    }
   ],
   "source": [
    "ax = sns.countplot(data=rpac_df, x='dist_order', color='blue')\n",
    "_ = ax.set(xlabel='Position at Catch (1 = closest to returner)', title=\"Position of Eventual Tackler at Time of Catch, Relative to Teammates\")"
   ]
  },
  {
   "cell_type": "code",
   "execution_count": 23,
   "metadata": {},
   "outputs": [
    {
     "data": {
      "image/png": "[encoded data removed]",
      "text/plain": [
       "<Figure size 432x288 with 1 Axes>"
      ]
     },
     "metadata": {
      "needs_background": "light"
     },
     "output_type": "display_data"
    }
   ],
   "source": [
    "rpac_cdf = rpac_df.dist_order.value_counts().sort_index().cumsum() / len(rpac_df)\n",
    "ax = sns.barplot(x=rpac_cdf.index, y=rpac_cdf.values, color='blue')\n",
    "_ = ax.set(xlabel='Eventual Tackler Position <= Given Position at Catch', title=\"CDF: Position of Eventual Tackler at Time of Catch, Relative to Teammates\",\n",
    "           ylabel='CDF (proportion)')"
   ]
  },
  {
   "cell_type": "code",
   "execution_count": 24,
   "metadata": {},
   "outputs": [
    {
     "data": {
      "text/plain": [
       "array([0.21362229, 0.38390093, 0.52321981, 0.62229102, 0.73993808,\n",
       "       0.80804954, 0.8498452 , 0.89783282, 0.93653251, 0.98297214,\n",
       "       1.        ])"
      ]
     },
     "execution_count": 24,
     "metadata": {},
     "output_type": "execute_result"
    }
   ],
   "source": [
    "rpac_cdf.values"
   ]
  },
  {
   "cell_type": "code",
   "execution_count": 25,
   "metadata": {},
   "outputs": [
    {
     "data": {
      "text/plain": [
       "1     0.213622\n",
       "2     0.383901\n",
       "3     0.523220\n",
       "4     0.622291\n",
       "5     0.739938\n",
       "6     0.808050\n",
       "7     0.849845\n",
       "8     0.897833\n",
       "9     0.936533\n",
       "10    0.982972\n",
       "11    1.000000\n",
       "Name: dist_order, dtype: float64"
      ]
     },
     "execution_count": 25,
     "metadata": {},
     "output_type": "execute_result"
    }
   ],
   "source": [
    "# numbers for CDF plot\n",
    "rpac_df.dist_order.value_counts().sort_index().cumsum() / len(rpac_df)"
   ]
  },
  {
   "cell_type": "markdown",
   "metadata": {},
   "source": [
    "The plots above show that the closest defenders at the time of the catch are most likely to be the ones who tackle the returner (as expected). The CDF plot shows that ~75% of returns with a tackle result in a tackle by one of the 5 closest players at the time of the catch."
   ]
  },
  {
   "cell_type": "markdown",
   "metadata": {},
   "source": [
    "### TEMP - function version"
   ]
  },
  {
   "cell_type": "code",
   "execution_count": 26,
   "metadata": {},
   "outputs": [],
   "source": [
    "def get_defender_distances_at_catch(track_df, kickerId, returnerId):\n",
    "    kicking_team = track_df.loc[track_df.nflId==kickerId, 'team'].iloc[0]\n",
    "    if kicking_team == 'home':\n",
    "        receiving_team = 'away'\n",
    "    elif kicking_team == 'away':\n",
    "        receiving_team = 'home'\n",
    "    else:\n",
    "        raise ValueError(f'Expected kicking team to be \"home\" or \"away\". Value was \"{kicking_team}\".')\n",
    "    \n",
    "    # get catch frameId\n",
    "    catch_frame = get_frame_of_event(track_df, 'punt_received')\n",
    "    \n",
    "    # defender location at catch - 11x2 matrix (X,Y)\n",
    "    defender_mask = (track_df.frameId==catch_frame) & (track_df.team==kicking_team)\n",
    "    defender_xy = track_df.loc[defender_mask, ['x','y']].to_numpy()\n",
    "    \n",
    "    # returner location at catch - 1x2 matrix (X,Y)\n",
    "    returner_mask = ((track_df.frameId==catch_frame)   # at the catch\n",
    "                    &(track_df.nflId==returnerId))  # is the returner\n",
    "    returner_xy = track_df.loc[returner_mask, ['x','y']].to_numpy().reshape(1,-1)\n",
    "    \n",
    "    # calculate the distance to the returner\n",
    "    diff_xy = defender_xy - returner_xy \n",
    "    dist = np.linalg.norm(diff_xy, axis=1)\n",
    "    \n",
    "    return (track_df\n",
    "           .loc[defender_mask, ['gameId','playId','nflId','displayName','jerseyNumber','position','team']]\n",
    "           .assign(dist_to_returner = dist)\n",
    "           .sort_values('dist_to_returner', ascending=True)\n",
    "           .reset_index(drop=True)\n",
    "           .assign(dist_order=lambda df_: df_.index + 1)\n",
    "            )  \n",
    "    \n",
    "    "
   ]
  },
  {
   "cell_type": "markdown",
   "metadata": {},
   "source": [
    "## Depth of punt returner at snap\n",
    "Potential to determine whether to stratify short punts or not, depending on distribution"
   ]
  },
  {
   "cell_type": "code",
   "execution_count": 27,
   "metadata": {},
   "outputs": [
    {
     "data": {
      "text/html": [
       "<div>\n",
       "<style scoped>\n",
       "    .dataframe tbody tr th:only-of-type {\n",
       "        vertical-align: middle;\n",
       "    }\n",
       "\n",
       "    .dataframe tbody tr th {\n",
       "        vertical-align: top;\n",
       "    }\n",
       "\n",
       "    .dataframe thead th {\n",
       "        text-align: right;\n",
       "    }\n",
       "</style>\n",
       "<table border=\"1\" class=\"dataframe\">\n",
       "  <thead>\n",
       "    <tr style=\"text-align: right;\">\n",
       "      <th></th>\n",
       "      <th>gameId</th>\n",
       "      <th>playId</th>\n",
       "      <th>returnerId</th>\n",
       "      <th>frameId</th>\n",
       "      <th>event</th>\n",
       "      <th>x_returner</th>\n",
       "      <th>x_football</th>\n",
       "      <th>los_abs</th>\n",
       "      <th>returner_depth</th>\n",
       "      <th>los_bin</th>\n",
       "      <th>los_bin_mid</th>\n",
       "    </tr>\n",
       "  </thead>\n",
       "  <tbody>\n",
       "    <tr>\n",
       "      <th>0</th>\n",
       "      <td>2018090600</td>\n",
       "      <td>366</td>\n",
       "      <td>42450.0</td>\n",
       "      <td>11</td>\n",
       "      <td>ball_snap</td>\n",
       "      <td>67.05</td>\n",
       "      <td>17.90</td>\n",
       "      <td>7.90</td>\n",
       "      <td>49.15</td>\n",
       "      <td>(5, 10]</td>\n",
       "      <td>7.5</td>\n",
       "    </tr>\n",
       "    <tr>\n",
       "      <th>1</th>\n",
       "      <td>2018090600</td>\n",
       "      <td>973</td>\n",
       "      <td>29957.0</td>\n",
       "      <td>11</td>\n",
       "      <td>ball_snap</td>\n",
       "      <td>68.89</td>\n",
       "      <td>20.80</td>\n",
       "      <td>10.80</td>\n",
       "      <td>48.09</td>\n",
       "      <td>(10, 15]</td>\n",
       "      <td>12.5</td>\n",
       "    </tr>\n",
       "    <tr>\n",
       "      <th>2</th>\n",
       "      <td>2018090600</td>\n",
       "      <td>1989</td>\n",
       "      <td>29957.0</td>\n",
       "      <td>11</td>\n",
       "      <td>ball_snap</td>\n",
       "      <td>85.21</td>\n",
       "      <td>35.82</td>\n",
       "      <td>25.82</td>\n",
       "      <td>49.39</td>\n",
       "      <td>(25, 30]</td>\n",
       "      <td>27.5</td>\n",
       "    </tr>\n",
       "    <tr>\n",
       "      <th>3</th>\n",
       "      <td>2018090600</td>\n",
       "      <td>2406</td>\n",
       "      <td>42450.0</td>\n",
       "      <td>11</td>\n",
       "      <td>ball_snap</td>\n",
       "      <td>99.66</td>\n",
       "      <td>51.57</td>\n",
       "      <td>41.57</td>\n",
       "      <td>48.09</td>\n",
       "      <td>(40, 45]</td>\n",
       "      <td>42.5</td>\n",
       "    </tr>\n",
       "    <tr>\n",
       "      <th>4</th>\n",
       "      <td>2018090600</td>\n",
       "      <td>2599</td>\n",
       "      <td>29957.0</td>\n",
       "      <td>11</td>\n",
       "      <td>ball_snap</td>\n",
       "      <td>81.78</td>\n",
       "      <td>36.00</td>\n",
       "      <td>26.00</td>\n",
       "      <td>45.78</td>\n",
       "      <td>(25, 30]</td>\n",
       "      <td>27.5</td>\n",
       "    </tr>\n",
       "    <tr>\n",
       "      <th>...</th>\n",
       "      <td>...</td>\n",
       "      <td>...</td>\n",
       "      <td>...</td>\n",
       "      <td>...</td>\n",
       "      <td>...</td>\n",
       "      <td>...</td>\n",
       "      <td>...</td>\n",
       "      <td>...</td>\n",
       "      <td>...</td>\n",
       "      <td>...</td>\n",
       "      <td>...</td>\n",
       "    </tr>\n",
       "    <tr>\n",
       "      <th>1440</th>\n",
       "      <td>2018123015</td>\n",
       "      <td>1714</td>\n",
       "      <td>43406.0</td>\n",
       "      <td>11</td>\n",
       "      <td>ball_snap</td>\n",
       "      <td>66.69</td>\n",
       "      <td>21.77</td>\n",
       "      <td>11.77</td>\n",
       "      <td>44.92</td>\n",
       "      <td>(10, 15]</td>\n",
       "      <td>12.5</td>\n",
       "    </tr>\n",
       "    <tr>\n",
       "      <th>1441</th>\n",
       "      <td>2018123015</td>\n",
       "      <td>1958</td>\n",
       "      <td>43406.0</td>\n",
       "      <td>11</td>\n",
       "      <td>ball_snap</td>\n",
       "      <td>81.51</td>\n",
       "      <td>35.25</td>\n",
       "      <td>25.25</td>\n",
       "      <td>46.26</td>\n",
       "      <td>(25, 30]</td>\n",
       "      <td>27.5</td>\n",
       "    </tr>\n",
       "    <tr>\n",
       "      <th>1442</th>\n",
       "      <td>2018123015</td>\n",
       "      <td>2277</td>\n",
       "      <td>43406.0</td>\n",
       "      <td>11</td>\n",
       "      <td>ball_snap</td>\n",
       "      <td>83.58</td>\n",
       "      <td>41.20</td>\n",
       "      <td>31.20</td>\n",
       "      <td>42.38</td>\n",
       "      <td>(30, 35]</td>\n",
       "      <td>32.5</td>\n",
       "    </tr>\n",
       "    <tr>\n",
       "      <th>1443</th>\n",
       "      <td>2018123015</td>\n",
       "      <td>2395</td>\n",
       "      <td>42412.0</td>\n",
       "      <td>11</td>\n",
       "      <td>ball_snap</td>\n",
       "      <td>84.41</td>\n",
       "      <td>36.34</td>\n",
       "      <td>26.34</td>\n",
       "      <td>48.07</td>\n",
       "      <td>(25, 30]</td>\n",
       "      <td>27.5</td>\n",
       "    </tr>\n",
       "    <tr>\n",
       "      <th>1444</th>\n",
       "      <td>2018123015</td>\n",
       "      <td>2489</td>\n",
       "      <td>43406.0</td>\n",
       "      <td>11</td>\n",
       "      <td>ball_snap</td>\n",
       "      <td>71.45</td>\n",
       "      <td>24.80</td>\n",
       "      <td>14.80</td>\n",
       "      <td>46.65</td>\n",
       "      <td>(10, 15]</td>\n",
       "      <td>12.5</td>\n",
       "    </tr>\n",
       "  </tbody>\n",
       "</table>\n",
       "<p>1445 rows × 11 columns</p>\n",
       "</div>"
      ],
      "text/plain": [
       "          gameId  playId  returnerId  frameId      event  x_returner  \\\n",
       "0     2018090600     366     42450.0       11  ball_snap       67.05   \n",
       "1     2018090600     973     29957.0       11  ball_snap       68.89   \n",
       "2     2018090600    1989     29957.0       11  ball_snap       85.21   \n",
       "3     2018090600    2406     42450.0       11  ball_snap       99.66   \n",
       "4     2018090600    2599     29957.0       11  ball_snap       81.78   \n",
       "...          ...     ...         ...      ...        ...         ...   \n",
       "1440  2018123015    1714     43406.0       11  ball_snap       66.69   \n",
       "1441  2018123015    1958     43406.0       11  ball_snap       81.51   \n",
       "1442  2018123015    2277     43406.0       11  ball_snap       83.58   \n",
       "1443  2018123015    2395     42412.0       11  ball_snap       84.41   \n",
       "1444  2018123015    2489     43406.0       11  ball_snap       71.45   \n",
       "\n",
       "      x_football  los_abs  returner_depth   los_bin los_bin_mid  \n",
       "0          17.90     7.90           49.15   (5, 10]         7.5  \n",
       "1          20.80    10.80           48.09  (10, 15]        12.5  \n",
       "2          35.82    25.82           49.39  (25, 30]        27.5  \n",
       "3          51.57    41.57           48.09  (40, 45]        42.5  \n",
       "4          36.00    26.00           45.78  (25, 30]        27.5  \n",
       "...          ...      ...             ...       ...         ...  \n",
       "1440       21.77    11.77           44.92  (10, 15]        12.5  \n",
       "1441       35.25    25.25           46.26  (25, 30]        27.5  \n",
       "1442       41.20    31.20           42.38  (30, 35]        32.5  \n",
       "1443       36.34    26.34           48.07  (25, 30]        27.5  \n",
       "1444       24.80    14.80           46.65  (10, 15]        12.5  \n",
       "\n",
       "[1445 rows x 11 columns]"
      ]
     },
     "execution_count": 27,
     "metadata": {},
     "output_type": "execute_result"
    }
   ],
   "source": [
    "# limit to punt plays\n",
    "play_punt_mask = ((play_df['specialTeamsPlayType']=='Punt') & \n",
    "                  ~play_df['returnerId'].astype(str).str.contains(';')\n",
    "                 )\n",
    "\n",
    "rpos_df = (play_df.loc[play_punt_mask, ['gameId','playId','returnerId']]\n",
    " .astype({\"returnerId\": float})\n",
    " .dropna(subset=['returnerId'])\n",
    " # attach the returner ID and frame ID of the \"punt_received\" event to each play\n",
    " .merge(nflutil.get_frame_of_event(track_df, 'ball_snap'),\n",
    "        how='inner',\n",
    "        on=['gameId','playId'])\n",
    " # get the returner position on the field when the punt is caught\n",
    " .merge(track_df[['gameId','playId','frameId','nflId','x']],\n",
    "        how='inner',\n",
    "        left_on=['gameId','playId','frameId','returnerId'],\n",
    "        right_on=['gameId','playId','frameId','nflId'])\n",
    " .drop(columns=['nflId'])\n",
    " .rename(columns={'x':'x_returner'})\n",
    " # attach the football location\n",
    " .merge(track_df.loc[track_df.team == 'football', ['gameId','playId','frameId','x']],\n",
    "        how='inner',\n",
    "        on=['gameId','playId','frameId'])\n",
    " .rename(columns={'x': 'x_football'})\n",
    " # create a variable 0-100 for line of scrimmage on the field\n",
    " .assign(los_abs=lambda df_: df_.x_football - 10,\n",
    "         returner_depth=lambda df_: df_.x_returner - df_.x_football,\n",
    "         los_bin=lambda df_: pd.cut(df_.los_abs, range(0,101,5)),\n",
    "         los_bin_mid=lambda df_: df_.los_bin.map(attrgetter('mid')))\n",
    ")\n",
    "rpos_df"
   ]
  },
  {
   "cell_type": "code",
   "execution_count": 28,
   "metadata": {},
   "outputs": [
    {
     "data": {
      "image/png": "[encoded data removed]",
      "text/plain": [
       "<Figure size 432x288 with 1 Axes>"
      ]
     },
     "metadata": {
      "needs_background": "light"
     },
     "output_type": "display_data"
    }
   ],
   "source": [
    "ax = sns.histplot(data=rpos_df, x='los_abs', binwidth=5, binrange=(0,100))\n",
    "_ = ax.set(title='Number of Punts by Position on Field (0 = own goal line)')"
   ]
  },
  {
   "cell_type": "code",
   "execution_count": 29,
   "metadata": {},
   "outputs": [
    {
     "data": {
      "image/png": "[encoded data removed]",
      "text/plain": [
       "<Figure size 1080x360 with 1 Axes>"
      ]
     },
     "metadata": {
      "needs_background": "light"
     },
     "output_type": "display_data"
    }
   ],
   "source": [
    "fig = plt.figure(figsize=(15,5))\n",
    "ax = plt.gca()\n",
    "sns.boxplot(ax=ax, data=rpos_df, x='los_bin', y='returner_depth')\n",
    "_ = ax.set(title='Punt Returner Depth by Line of Scrimmage', \n",
    "           xlabel='Line of Scrimmage (0 = own endzone, 100 = opponent endzone)',\n",
    "           ylabel='Returner Depth (yards)')"
   ]
  },
  {
   "cell_type": "markdown",
   "metadata": {},
   "source": [
    "The plot above shows that the returner depth stays very consistent through the punting team's own 45 yard line, then decreases. If the modeling methodology requires accounting for the line of scrimmage/punt returner depth, it should investigate using a \"short punt\" flag as a feature (or depth of punt as a feature), or separate models for full-depth vs short-depth punts."
   ]
  }
 ],
 "metadata": {
  "kernelspec": {
   "display_name": "Python 3",
   "language": "python",
   "name": "python3"
  },
  "language_info": {
   "codemirror_mode": {
    "name": "ipython",
    "version": 3
   },
   "file_extension": ".py",
   "mimetype": "text/x-python",
   "name": "python",
   "nbconvert_exporter": "python",
   "pygments_lexer": "ipython3",
   "version": "3.7.9"
  }
 },
 "nbformat": 4,
 "nbformat_minor": 4
}
