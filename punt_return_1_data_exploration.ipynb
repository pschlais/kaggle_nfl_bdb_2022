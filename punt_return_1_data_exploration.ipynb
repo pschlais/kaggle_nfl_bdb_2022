{
 "cells": [
  {
   "cell_type": "code",
   "execution_count": 1,
   "metadata": {},
   "outputs": [],
   "source": [
    "# add local directory to import path\n",
    "import os\n",
    "import sys\n",
    "module_path = os.path.abspath(os.path.join('.'))\n",
    "if module_path not in sys.path:\n",
    "    sys.path.append(module_path)"
   ]
  },
  {
   "cell_type": "code",
   "execution_count": 2,
   "metadata": {},
   "outputs": [],
   "source": [
    "#### --- Standard imports ------\n",
    "import pandas as pd\n",
    "import numpy as np\n",
    "import matplotlib.pyplot as plt\n",
    "import seaborn as sns\n",
    "\n",
    "from IPython.display import HTML\n",
    "\n",
    "# local import\n",
    "import nflplot"
   ]
  },
  {
   "cell_type": "code",
   "execution_count": 3,
   "metadata": {},
   "outputs": [
    {
     "data": {
      "text/plain": [
       "<module 'nflplot' from 'C:\\\\Users\\\\pschl\\\\Documents\\\\data_science\\\\kaggle_nfl_bdb_2022\\\\nflplot.py'>"
      ]
     },
     "execution_count": 3,
     "metadata": {},
     "output_type": "execute_result"
    }
   ],
   "source": [
    "from importlib import reload\n",
    "reload(nflplot)"
   ]
  },
  {
   "cell_type": "markdown",
   "metadata": {},
   "source": [
    "**IMPORT DATA - This notebook assumes that the source data is in a \"csv\" subfolder relative to this notebook**"
   ]
  },
  {
   "cell_type": "code",
   "execution_count": 4,
   "metadata": {},
   "outputs": [],
   "source": [
    "year = 2018\n",
    "track_df = pd.read_csv(f'csv/tracking{year}.csv')\n",
    "play_df = pd.read_csv('csv/plays.csv')\n",
    "game_df = pd.read_csv('csv/games.csv')"
   ]
  },
  {
   "cell_type": "code",
   "execution_count": 5,
   "metadata": {},
   "outputs": [],
   "source": [
    "pff_df = pd.read_csv('csv/PFFScoutingData.csv')"
   ]
  },
  {
   "cell_type": "markdown",
   "metadata": {},
   "source": [
    "## Event Types"
   ]
  },
  {
   "cell_type": "code",
   "execution_count": 6,
   "metadata": {},
   "outputs": [
    {
     "data": {
      "text/plain": [
       "Kickoff        7843\n",
       "Punt           5991\n",
       "Extra Point    3488\n",
       "Field Goal     2657\n",
       "Name: specialTeamsPlayType, dtype: int64"
      ]
     },
     "execution_count": 6,
     "metadata": {},
     "output_type": "execute_result"
    }
   ],
   "source": [
    "# play-level\n",
    "play_df['specialTeamsPlayType'].value_counts()"
   ]
  },
  {
   "cell_type": "code",
   "execution_count": 7,
   "metadata": {},
   "outputs": [
    {
     "data": {
      "text/plain": [
       "Return                      2286\n",
       "Fair Catch                  1640\n",
       "Downed                       829\n",
       "Out of Bounds                586\n",
       "Touchback                    383\n",
       "Muffed                       154\n",
       "Non-Special Teams Result      74\n",
       "Blocked Punt                  39\n",
       "Name: specialTeamsResult, dtype: int64"
      ]
     },
     "execution_count": 7,
     "metadata": {},
     "output_type": "execute_result"
    }
   ],
   "source": [
    "play_df.loc[play_df['specialTeamsPlayType']=='Punt', 'specialTeamsResult'].value_counts()"
   ]
  },
  {
   "cell_type": "code",
   "execution_count": 8,
   "metadata": {},
   "outputs": [
    {
     "data": {
      "text/plain": [
       "None                        225312\n",
       "ball_snap                     2136\n",
       "punt                          2127\n",
       "punt_received                  855\n",
       "tackle                         707\n",
       "first_contact                  621\n",
       "fair_catch                     586\n",
       "punt_land                      582\n",
       "out_of_bounds                  378\n",
       "punt_downed                    331\n",
       "line_set                       153\n",
       "touchback                      144\n",
       "fumble_offense_recovered        53\n",
       "punt_muffed                     52\n",
       "fumble                          36\n",
       "fumble_defense_recovered        31\n",
       "punt_fake                       23\n",
       "punt_blocked                    20\n",
       "touchdown                       15\n",
       "punt_play                       13\n",
       "man_in_motion                   12\n",
       "run                             12\n",
       "penalty_flag                    11\n",
       "pass_forward                    10\n",
       "kick_received                    9\n",
       "pass_arrived                     9\n",
       "pass_outcome_caught              7\n",
       "snap_direct                      4\n",
       "pass_outcome_incomplete          3\n",
       "kick_recovered                   3\n",
       "safety                           2\n",
       "lateral                          1\n",
       "huddle_start_offense             1\n",
       "play_action                      1\n",
       "huddle_break_offense             1\n",
       "handoff                          1\n",
       "kickoff_land                     1\n",
       "Name: event, dtype: int64"
      ]
     },
     "execution_count": 8,
     "metadata": {},
     "output_type": "execute_result"
    }
   ],
   "source": [
    "# get event counts for punt plays\n",
    "pd.merge(\n",
    "    track_df.groupby(['gameId','playId','frameId']).head(1),\n",
    "    play_df[play_df['specialTeamsPlayType']=='Punt'],\n",
    "    how='inner',\n",
    "    on=['gameId','playId']\n",
    ")['event'].value_counts()"
   ]
  },
  {
   "cell_type": "markdown",
   "metadata": {},
   "source": [
    "## Punt Formations - distribution of gunner count, vise count, and gunner-deficit (# gunners - # vises)"
   ]
  },
  {
   "cell_type": "markdown",
   "metadata": {},
   "source": [
    "### Gunner Count"
   ]
  },
  {
   "cell_type": "code",
   "execution_count": 9,
   "metadata": {},
   "outputs": [
    {
     "data": {
      "text/plain": [
       "5880"
      ]
     },
     "execution_count": 9,
     "metadata": {},
     "output_type": "execute_result"
    }
   ],
   "source": [
    "# total number of punt plays with data\n",
    "pff_df[pff_df['kickType'].isin(['N','R','A'])].shape[0]"
   ]
  },
  {
   "cell_type": "code",
   "execution_count": 10,
   "metadata": {},
   "outputs": [
    {
     "data": {
      "text/plain": [
       "18"
      ]
     },
     "execution_count": 10,
     "metadata": {},
     "output_type": "execute_result"
    }
   ],
   "source": [
    "# number of zero-gunner plays (max-protect)\n",
    "pff_df[pff_df['gunners'].isna() \n",
    "       & (pff_df['kickType'].isin(['N','R','A']))].shape[0]"
   ]
  },
  {
   "cell_type": "code",
   "execution_count": 11,
   "metadata": {},
   "outputs": [
    {
     "data": {
      "text/plain": [
       "1      13\n",
       "2    5809\n",
       "3      33\n",
       "4       7\n",
       "Name: gunners, dtype: int64"
      ]
     },
     "execution_count": 11,
     "metadata": {},
     "output_type": "execute_result"
    }
   ],
   "source": [
    "# number of gunners in plays where there are gunners\n",
    "(pff_df.loc[pff_df['gunners'].notna() \n",
    "       & (pff_df['kickType'].isin(['N','R','A'])),\n",
    "          'gunners']\n",
    "  .transform(lambda x: x.count(';') + 1)\n",
    ").value_counts().sort_index()"
   ]
  },
  {
   "cell_type": "markdown",
   "metadata": {},
   "source": [
    "The results above clearly show that 2 gunners is the vast majority of all scenarios, so any consideration of gunner count as a predictive feature should be investigated thoroughly."
   ]
  },
  {
   "cell_type": "markdown",
   "metadata": {},
   "source": [
    "### Vise Count"
   ]
  },
  {
   "cell_type": "code",
   "execution_count": 12,
   "metadata": {},
   "outputs": [
    {
     "data": {
      "text/plain": [
       "40"
      ]
     },
     "execution_count": 12,
     "metadata": {},
     "output_type": "execute_result"
    }
   ],
   "source": [
    "# number of zero-vise plays (block attempt)\n",
    "pff_df[pff_df['vises'].isna() \n",
    "       & (pff_df['kickType'].isin(['N','R','A']))].shape[0]"
   ]
  },
  {
   "cell_type": "code",
   "execution_count": 13,
   "metadata": {},
   "outputs": [
    {
     "data": {
      "text/plain": [
       "1      61\n",
       "2    3495\n",
       "3    1746\n",
       "4     531\n",
       "5       7\n",
       "Name: vises, dtype: int64"
      ]
     },
     "execution_count": 13,
     "metadata": {},
     "output_type": "execute_result"
    }
   ],
   "source": [
    "# number of vises in plays where there are vises\n",
    "(pff_df.loc[pff_df['vises'].notna() \n",
    "       & (pff_df['kickType'].isin(['N','R','A'])),\n",
    "          'vises']\n",
    "  .transform(lambda x: x.count(';') + 1)\n",
    ").value_counts().sort_index()"
   ]
  },
  {
   "cell_type": "markdown",
   "metadata": {},
   "source": [
    "### Gunner deficit\n",
    "Negative means less gunners than vises"
   ]
  },
  {
   "cell_type": "code",
   "execution_count": 14,
   "metadata": {},
   "outputs": [],
   "source": [
    "def count_gunner_deficit(df):\n",
    "    # counts gunner deficit (# gunners - # vises)\n",
    "    # - if the type is not string, it is nan (float)\n",
    "    gunners = 0 if type(df['gunners']) is not str else df['gunners'].count(';') + 1\n",
    "    vises = 0 if type(df['vises']) is not str else df['vises'].count(';') + 1\n",
    "    return gunners - vises"
   ]
  },
  {
   "cell_type": "code",
   "execution_count": 15,
   "metadata": {},
   "outputs": [
    {
     "data": {
      "text/plain": [
       "-3       4\n",
       "-2     525\n",
       "-1    1740\n",
       " 0    3520\n",
       " 1      70\n",
       " 2      21\n",
       "dtype: int64"
      ]
     },
     "execution_count": 15,
     "metadata": {},
     "output_type": "execute_result"
    }
   ],
   "source": [
    "(pff_df[(pff_df['kickType'].isin(['N','R','A']))]\n",
    "  .apply(lambda row: count_gunner_deficit(row), axis=1)\n",
    ").value_counts().sort_index()"
   ]
  },
  {
   "cell_type": "markdown",
   "metadata": {},
   "source": [
    "## Relative position at catch\n",
    "Get order of closest to furthest from returner at time of catch, then see which player makes the tackle\n",
    "* Distribution of order vs tackler\n",
    "* Distribution of space to closest defender (X yds) vs. player that makes tackle (1st, 2nd, ...)"
   ]
  },
  {
   "cell_type": "code",
   "execution_count": 18,
   "metadata": {},
   "outputs": [
    {
     "data": {
      "text/plain": [
       "2286"
      ]
     },
     "execution_count": 18,
     "metadata": {},
     "output_type": "execute_result"
    }
   ],
   "source": [
    "# get the punt plays with a return\n",
    "puntreturn_play_df = play_df.loc[(play_df['specialTeamsPlayType']=='Punt') & (play_df['specialTeamsResult']=='Return'), :]\n",
    "len(puntreturn_play_df)"
   ]
  },
  {
   "cell_type": "code",
   "execution_count": 19,
   "metadata": {},
   "outputs": [
    {
     "data": {
      "text/plain": [
       "gameId                                                           2018090600\n",
       "playId                                                                  366\n",
       "playDescription           (9:20) C.Johnston punts 56 yards to ATL 36, Ce...\n",
       "quarter                                                                   1\n",
       "down                                                                      4\n",
       "yardsToGo                                                                 4\n",
       "possessionTeam                                                          PHI\n",
       "specialTeamsPlayType                                                   Punt\n",
       "specialTeamsResult                                                   Return\n",
       "kickerId                                                            45603.0\n",
       "returnerId                                                            42450\n",
       "kickBlockerId                                                           NaN\n",
       "yardlineSide                                                            PHI\n",
       "yardlineNumber                                                            8\n",
       "gameClock                                                          09:20:00\n",
       "penaltyCodes                                                           UNSd\n",
       "penaltyJerseyNumbers                                                 PHI 18\n",
       "penaltyYards                                                          -15.0\n",
       "preSnapHomeScore                                                          0\n",
       "preSnapVisitorScore                                                       0\n",
       "passResult                                                              NaN\n",
       "kickLength                                                             56.0\n",
       "kickReturnYardage                                                       5.0\n",
       "playResult                                                               36\n",
       "absoluteYardlineNumber                                                   18\n",
       "Name: 1, dtype: object"
      ]
     },
     "execution_count": 19,
     "metadata": {},
     "output_type": "execute_result"
    }
   ],
   "source": [
    "puntreturn_play_df.iloc[0]"
   ]
  },
  {
   "cell_type": "code",
   "execution_count": 22,
   "metadata": {},
   "outputs": [
    {
     "data": {
      "text/html": [
       "<div>\n",
       "<style scoped>\n",
       "    .dataframe tbody tr th:only-of-type {\n",
       "        vertical-align: middle;\n",
       "    }\n",
       "\n",
       "    .dataframe tbody tr th {\n",
       "        vertical-align: top;\n",
       "    }\n",
       "\n",
       "    .dataframe thead th {\n",
       "        text-align: right;\n",
       "    }\n",
       "</style>\n",
       "<table border=\"1\" class=\"dataframe\">\n",
       "  <thead>\n",
       "    <tr style=\"text-align: right;\">\n",
       "      <th></th>\n",
       "      <th>frameId</th>\n",
       "      <th>event</th>\n",
       "    </tr>\n",
       "  </thead>\n",
       "  <tbody>\n",
       "    <tr>\n",
       "      <th>12070916</th>\n",
       "      <td>11</td>\n",
       "      <td>ball_snap</td>\n",
       "    </tr>\n",
       "    <tr>\n",
       "      <th>12070938</th>\n",
       "      <td>33</td>\n",
       "      <td>punt</td>\n",
       "    </tr>\n",
       "    <tr>\n",
       "      <th>12070983</th>\n",
       "      <td>78</td>\n",
       "      <td>punt_received</td>\n",
       "    </tr>\n",
       "    <tr>\n",
       "      <th>12071005</th>\n",
       "      <td>100</td>\n",
       "      <td>first_contact</td>\n",
       "    </tr>\n",
       "    <tr>\n",
       "      <th>12071024</th>\n",
       "      <td>119</td>\n",
       "      <td>tackle</td>\n",
       "    </tr>\n",
       "  </tbody>\n",
       "</table>\n",
       "</div>"
      ],
      "text/plain": [
       "          frameId          event\n",
       "12070916       11      ball_snap\n",
       "12070938       33           punt\n",
       "12070983       78  punt_received\n",
       "12071005      100  first_contact\n",
       "12071024      119         tackle"
      ]
     },
     "execution_count": 22,
     "metadata": {},
     "output_type": "execute_result"
    }
   ],
   "source": [
    "gameId = 2018090600\n",
    "playId = 366\n",
    "(track_df[(track_df['gameId']==gameId)&(track_df['playId']==playId)&(track_df['event']!='None')]\n",
    " .groupby('frameId')\n",
    " .head(1)\n",
    " )[['frameId', 'event']]"
   ]
  },
  {
   "cell_type": "code",
   "execution_count": 30,
   "metadata": {},
   "outputs": [],
   "source": [
    "def get_frame_of_event(track_df, event_name):\n",
    "    # returns the frameId of the input event\n",
    "    # track_df = tracking data for 1 play\n",
    "    return track_df.loc[track_df.event==event_name, 'frameId'].iloc[0]"
   ]
  },
  {
   "cell_type": "code",
   "execution_count": 33,
   "metadata": {},
   "outputs": [
    {
     "data": {
      "text/plain": [
       "78"
      ]
     },
     "execution_count": 33,
     "metadata": {},
     "output_type": "execute_result"
    }
   ],
   "source": [
    "test_df = track_df[(track_df.gameId==gameId)&(track_df.playId==playId)]\n",
    "get_frame_of_event(test_df, 'punt_received')"
   ]
  },
  {
   "cell_type": "code",
   "execution_count": 82,
   "metadata": {},
   "outputs": [],
   "source": [
    "def get_defender_distances_at_catch(track_df, kickerId, returnerId):\n",
    "    kicking_team = track_df.loc[track_df.nflId==kickerId, 'team'].iloc[0]\n",
    "    if kicking_team == 'home':\n",
    "        receiving_team = 'away'\n",
    "    elif kicking_team == 'away':\n",
    "        receiving_team = 'home'\n",
    "    else:\n",
    "        raise ValueError(f'Expected kicking team to be \"home\" or \"away\". Value was \"{kicking_team}\".')\n",
    "    \n",
    "    # get catch frameId\n",
    "    catch_frame = get_frame_of_event(track_df, 'punt_received')\n",
    "    \n",
    "    # defender location at catch\n",
    "    defender_df = track_df[(track_df.frameId==catch_frame)&(track_df.team==kicking_team)]\n",
    "    defender_xy = defender_df[['x','y']].to_numpy()\n",
    "    #print(defender_df.nflId)\n",
    "    \n",
    "    # returner location at catch\n",
    "    returner_xy = track_df.loc[(track_df.frameId==catch_frame)\n",
    "                           &(track_df.team==receiving_team)\n",
    "                           &(track_df.nflId==returnerId), ['x','y']].to_numpy().reshape(1,-1)\n",
    "    \n",
    "    # calculate the distance to the returner\n",
    "    diff_xy = defender_xy - returner_xy \n",
    "    dist = np.linalg.norm(diff_xy, axis=1)\n",
    "    #print(dist)\n",
    "    \n",
    "    data_df = defender_df.loc[:,['gameId','playId','nflId','displayName','jerseyNumber','position','team']]\n",
    "    data_df['dist_to_returner'] = dist\n",
    "    \n",
    "    # determine order\n",
    "    data_df = data_df.sort_values('dist_to_returner', ascending=True).reset_index(drop=True)\n",
    "    data_df['dist_order'] = data_df.index + 1\n",
    "    \n",
    "    return data_df\n",
    "    \n",
    "    \n",
    "    "
   ]
  },
  {
   "cell_type": "code",
   "execution_count": 83,
   "metadata": {},
   "outputs": [
    {
     "data": {
      "text/html": [
       "<div>\n",
       "<style scoped>\n",
       "    .dataframe tbody tr th:only-of-type {\n",
       "        vertical-align: middle;\n",
       "    }\n",
       "\n",
       "    .dataframe tbody tr th {\n",
       "        vertical-align: top;\n",
       "    }\n",
       "\n",
       "    .dataframe thead th {\n",
       "        text-align: right;\n",
       "    }\n",
       "</style>\n",
       "<table border=\"1\" class=\"dataframe\">\n",
       "  <thead>\n",
       "    <tr style=\"text-align: right;\">\n",
       "      <th></th>\n",
       "      <th>gameId</th>\n",
       "      <th>playId</th>\n",
       "      <th>nflId</th>\n",
       "      <th>displayName</th>\n",
       "      <th>jerseyNumber</th>\n",
       "      <th>position</th>\n",
       "      <th>team</th>\n",
       "      <th>dist_to_returner</th>\n",
       "      <th>dist_order</th>\n",
       "    </tr>\n",
       "  </thead>\n",
       "  <tbody>\n",
       "    <tr>\n",
       "      <th>0</th>\n",
       "      <td>2018090600</td>\n",
       "      <td>366</td>\n",
       "      <td>42515.0</td>\n",
       "      <td>D.J. Alexander</td>\n",
       "      <td>57.0</td>\n",
       "      <td>OLB</td>\n",
       "      <td>home</td>\n",
       "      <td>20.513159</td>\n",
       "      <td>1</td>\n",
       "    </tr>\n",
       "    <tr>\n",
       "      <th>1</th>\n",
       "      <td>2018090600</td>\n",
       "      <td>366</td>\n",
       "      <td>44979.0</td>\n",
       "      <td>Shelton Gibson</td>\n",
       "      <td>18.0</td>\n",
       "      <td>WR</td>\n",
       "      <td>home</td>\n",
       "      <td>23.104132</td>\n",
       "      <td>2</td>\n",
       "    </tr>\n",
       "    <tr>\n",
       "      <th>2</th>\n",
       "      <td>2018090600</td>\n",
       "      <td>366</td>\n",
       "      <td>44997.0</td>\n",
       "      <td>Nate Gerry</td>\n",
       "      <td>47.0</td>\n",
       "      <td>LB</td>\n",
       "      <td>home</td>\n",
       "      <td>24.871319</td>\n",
       "      <td>3</td>\n",
       "    </tr>\n",
       "    <tr>\n",
       "      <th>3</th>\n",
       "      <td>2018090600</td>\n",
       "      <td>366</td>\n",
       "      <td>32361.0</td>\n",
       "      <td>Corey Graham</td>\n",
       "      <td>24.0</td>\n",
       "      <td>FS</td>\n",
       "      <td>home</td>\n",
       "      <td>25.643791</td>\n",
       "      <td>4</td>\n",
       "    </tr>\n",
       "    <tr>\n",
       "      <th>4</th>\n",
       "      <td>2018090600</td>\n",
       "      <td>366</td>\n",
       "      <td>43497.0</td>\n",
       "      <td>Kamu Grugier-Hill</td>\n",
       "      <td>54.0</td>\n",
       "      <td>OLB</td>\n",
       "      <td>home</td>\n",
       "      <td>26.113822</td>\n",
       "      <td>5</td>\n",
       "    </tr>\n",
       "    <tr>\n",
       "      <th>5</th>\n",
       "      <td>2018090600</td>\n",
       "      <td>366</td>\n",
       "      <td>42942.0</td>\n",
       "      <td>Rick Lovato</td>\n",
       "      <td>45.0</td>\n",
       "      <td>LS</td>\n",
       "      <td>home</td>\n",
       "      <td>31.111941</td>\n",
       "      <td>6</td>\n",
       "    </tr>\n",
       "    <tr>\n",
       "      <th>6</th>\n",
       "      <td>2018090600</td>\n",
       "      <td>366</td>\n",
       "      <td>46194.0</td>\n",
       "      <td>Avonte Maddox</td>\n",
       "      <td>29.0</td>\n",
       "      <td>CB</td>\n",
       "      <td>home</td>\n",
       "      <td>33.178247</td>\n",
       "      <td>7</td>\n",
       "    </tr>\n",
       "    <tr>\n",
       "      <th>7</th>\n",
       "      <td>2018090600</td>\n",
       "      <td>366</td>\n",
       "      <td>40408.0</td>\n",
       "      <td>LaRoy Reynolds</td>\n",
       "      <td>50.0</td>\n",
       "      <td>MLB</td>\n",
       "      <td>home</td>\n",
       "      <td>33.189932</td>\n",
       "      <td>8</td>\n",
       "    </tr>\n",
       "    <tr>\n",
       "      <th>8</th>\n",
       "      <td>2018090600</td>\n",
       "      <td>366</td>\n",
       "      <td>45599.0</td>\n",
       "      <td>Corey Clement</td>\n",
       "      <td>30.0</td>\n",
       "      <td>RB</td>\n",
       "      <td>home</td>\n",
       "      <td>41.672288</td>\n",
       "      <td>9</td>\n",
       "    </tr>\n",
       "    <tr>\n",
       "      <th>9</th>\n",
       "      <td>2018090600</td>\n",
       "      <td>366</td>\n",
       "      <td>45603.0</td>\n",
       "      <td>Cameron Johnston</td>\n",
       "      <td>1.0</td>\n",
       "      <td>P</td>\n",
       "      <td>home</td>\n",
       "      <td>46.587831</td>\n",
       "      <td>10</td>\n",
       "    </tr>\n",
       "    <tr>\n",
       "      <th>10</th>\n",
       "      <td>2018090600</td>\n",
       "      <td>366</td>\n",
       "      <td>43442.0</td>\n",
       "      <td>Wendell Smallwood</td>\n",
       "      <td>28.0</td>\n",
       "      <td>RB</td>\n",
       "      <td>home</td>\n",
       "      <td>51.687895</td>\n",
       "      <td>11</td>\n",
       "    </tr>\n",
       "  </tbody>\n",
       "</table>\n",
       "</div>"
      ],
      "text/plain": [
       "        gameId  playId    nflId        displayName  jerseyNumber position  \\\n",
       "0   2018090600     366  42515.0     D.J. Alexander          57.0      OLB   \n",
       "1   2018090600     366  44979.0     Shelton Gibson          18.0       WR   \n",
       "2   2018090600     366  44997.0         Nate Gerry          47.0       LB   \n",
       "3   2018090600     366  32361.0       Corey Graham          24.0       FS   \n",
       "4   2018090600     366  43497.0  Kamu Grugier-Hill          54.0      OLB   \n",
       "5   2018090600     366  42942.0        Rick Lovato          45.0       LS   \n",
       "6   2018090600     366  46194.0      Avonte Maddox          29.0       CB   \n",
       "7   2018090600     366  40408.0     LaRoy Reynolds          50.0      MLB   \n",
       "8   2018090600     366  45599.0      Corey Clement          30.0       RB   \n",
       "9   2018090600     366  45603.0   Cameron Johnston           1.0        P   \n",
       "10  2018090600     366  43442.0  Wendell Smallwood          28.0       RB   \n",
       "\n",
       "    team  dist_to_returner  dist_order  \n",
       "0   home         20.513159           1  \n",
       "1   home         23.104132           2  \n",
       "2   home         24.871319           3  \n",
       "3   home         25.643791           4  \n",
       "4   home         26.113822           5  \n",
       "5   home         31.111941           6  \n",
       "6   home         33.178247           7  \n",
       "7   home         33.189932           8  \n",
       "8   home         41.672288           9  \n",
       "9   home         46.587831          10  \n",
       "10  home         51.687895          11  "
      ]
     },
     "execution_count": 83,
     "metadata": {},
     "output_type": "execute_result"
    }
   ],
   "source": [
    "get_defender_distances_at_catch(test_df, 45603.0, 42450)"
   ]
  },
  {
   "cell_type": "markdown",
   "metadata": {},
   "source": [
    "## Depth of punt returner at snap\n",
    "Potential to determine whether to stratify short punts or not, depending on distribution"
   ]
  }
 ],
 "metadata": {
  "kernelspec": {
   "display_name": "Python 3",
   "language": "python",
   "name": "python3"
  },
  "language_info": {
   "codemirror_mode": {
    "name": "ipython",
    "version": 3
   },
   "file_extension": ".py",
   "mimetype": "text/x-python",
   "name": "python",
   "nbconvert_exporter": "python",
   "pygments_lexer": "ipython3",
   "version": "3.7.9"
  }
 },
 "nbformat": 4,
 "nbformat_minor": 4
}
